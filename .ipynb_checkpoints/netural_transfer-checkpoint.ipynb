{
 "cells": [
  {
   "cell_type": "markdown",
   "metadata": {},
   "source": [
    "## 什么是图像风格转移\n",
    "图像风格转移，就是将一张图片的风格转移到另一张图片上去。确切的说就是：\n",
    "![image.png](http://ata2-img.cn-hangzhou.img-pub.aliyun-inc.com/6edadc623a66f8c9f8a630d18e97cd51.png)\n",
    "图像风格转移，直观来看，就是将一副图片的“风格”转移到另一幅图片，而保持它的内容不变。一般我们将内容保持不变的图称为内容图，content image，把含有我们想要的风格的图片，如梵高的星空，称为风格图，style image。"
   ]
  },
  {
   "attachments": {},
   "cell_type": "markdown",
   "metadata": {},
   "source": [
    "## 算法\n",
    "![image.png](http://ata2-img.cn-hangzhou.img-pub.aliyun-inc.com/47360bcf745d1b4fa3954725de41f996.png)\n",
    "\n",
    "通过这样的方式，用随机生成的G - 梯度下降损失函数得到新的图像，生成越来越接近的风格。\n",
    "\n",
    "### 风格迁移代价函数\n",
    "![image.png](http://ata2-img.cn-hangzhou.img-pub.aliyun-inc.com/cc52f8da668bf64b944f72cbbb0b01d0.png)\n",
    "\n",
    "#### 内容迁移代价函数\n",
    "\n",
    "如果你用隐藏层L来计算内容代价，如果l是个很小的数，比如用隐含层1，这个代价函数就会使你的生成图片像素上非常接近你的内容图片，如果你用很深的层，你就要问，内容图片里是否有狗，然后他就确保生成图片中一定有条狗，所以在实际中这个层在网络中既不会选太浅也不会选太深，通常l选择网络的中间层，然后用一个预训练的卷积模型。\n",
    "$a^{[l][C]}$和$a^{[l][G]}$分别代表内容图片C第l层的激活值和生成图片G第l层的激活值，如果这两个激活值相似，那么就意味着两个图片内容相似，因此我们定义这个内容代价损失函数：<br/></br><div align=center>$J_content(C,G)$ = || $a^[l][C]$ - $a^[l][G]$ || $^ 2$ </div>\n",
    "</br>\n",
    "既两个激活值展开成向量后，按元素相减，然后取平方。\n",
    "\n",
    "#### 风格损失函数\n",
    "\n",
    "什么是图像的风格？\n",
    "![image.png](http://ata2-img.cn-hangzhou.img-pub.aliyun-inc.com/6658fef33c74280cc872378367ea995c.png)\n",
    "\n",
    "加入你选择了神经网路的某一层l，去为图片风格定一个深度测量，我们要做的就是将图片的风格定义为l层中各个通道之间激活项的相关系数。\n",
    "假设你将L层的激活项取出，这是个n_H x n_W x n_C的激活项。\n",
    "\n",
    "如下图所示，我们将l层的激活块每个通道渲染成不同的颜色，如图有5个通道，为了能捕获图片的风格，我们在不同通道间使用相关系数来描述\n",
    "通道的风格，你能做的就是测量你的生成图像中第一个通道是否与第二个通道相关，这样就能得出与输入的风格图像的相似度\n",
    "\n",
    "##### 风格矩阵\n",
    "\n",
    "风格矩阵也被称为\"Gram矩阵\"，在线性代数中，Gram矩阵是一系列向量（$v_1$,....,$v_n$）的点积。\n",
    "对于风格，我们用某一层输出的Gram矩阵来进行表达。在Keras中，一张图片在某个卷积层的输出特征是一个形如（batch_size, channels, width, heigt）的四阶张量（th后端），一张图片的话batch_size就是1，抛掉这个维度以后就是一个三阶张量，第一维是通道维，与该层卷积核数目相同，后面两个维度是输出featuremap的大小，画成图是这样：\n",
    "![image.png](http://ata2-img.cn-hangzhou.img-pub.aliyun-inc.com/bbb488c6151489396c713becb252ab52.png)\n",
    "将每个featuremap向量化，我们就得到一个矩阵。图中这个representation得到的是512x196的矩阵。这个矩阵自己跟自己相乘，得到了512x512的矩阵，这个矩阵称为Gram矩阵。显然Gram矩阵表达了一个向量组中两两向量的相关性，它的i行j列元素值就是第i个向量化特征图跟第j个向量化特征图的内积。\n",
    "\n",
    "两张图的Gram矩阵差的二范数，我们定义为图像的风格表达。\n",
    "\n",
    "有了内容损失函数和风格损失函数，我们就可以计算G了，通过梯度下降不断优化损失函数，最终获取到风格迁移后的图像。\n"
   ]
  },
  {
   "cell_type": "markdown",
   "metadata": {},
   "source": [
    "## keras实现\n",
    "为了实现图像风格迁移，我们需要一下几个方面的材料：\n",
    "* 一个训练好的神经网络，使用训练好的神经网络来提取l层的特征用于生成内容损失和风格损失\n",
    "* 一张风格图像，用来计算它的风格"
   ]
  },
  {
   "cell_type": "code",
   "execution_count": null,
   "metadata": {},
   "outputs": [],
   "source": []
  },
  {
   "cell_type": "code",
   "execution_count": null,
   "metadata": {},
   "outputs": [],
   "source": []
  }
 ],
 "metadata": {
  "kernelspec": {
   "display_name": "Python 3",
   "language": "python",
   "name": "python3"
  },
  "language_info": {
   "codemirror_mode": {
    "name": "ipython",
    "version": 3
   },
   "file_extension": ".py",
   "mimetype": "text/x-python",
   "name": "python",
   "nbconvert_exporter": "python",
   "pygments_lexer": "ipython3",
   "version": "3.6.4"
  }
 },
 "nbformat": 4,
 "nbformat_minor": 2
}
